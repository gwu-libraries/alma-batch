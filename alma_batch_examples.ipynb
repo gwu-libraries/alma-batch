{
 "cells": [
  {
   "cell_type": "code",
   "execution_count": 1,
   "metadata": {},
   "outputs": [],
   "source": [
    "import sys\n",
    "sys.path.append('/Users/dsmith/Documents/code/alma_batch')"
   ]
  },
  {
   "cell_type": "code",
   "execution_count": 2,
   "metadata": {},
   "outputs": [],
   "source": [
    "from alma_batch import AlmaBatch\n",
    "import pandas as pd\n",
    "from pathlib import Path"
   ]
  },
  {
   "cell_type": "markdown",
   "metadata": {},
   "source": [
    "Load a set of items to be scanned in from Alma."
   ]
  },
  {
   "cell_type": "code",
   "execution_count": 3,
   "metadata": {},
   "outputs": [],
   "source": [
    "PATH_TO_CONFIG = Path('./')"
   ]
  },
  {
   "cell_type": "code",
   "execution_count": 4,
   "metadata": {},
   "outputs": [],
   "source": [
    "set_id = '14218981390004107'\n",
    "set_config_file = PATH_TO_CONFIG / 'sets_config.yml'"
   ]
  },
  {
   "cell_type": "code",
   "execution_count": 5,
   "metadata": {},
   "outputs": [],
   "source": [
    "set_batch = AlmaBatch(set_config_file)"
   ]
  },
  {
   "cell_type": "code",
   "execution_count": 6,
   "metadata": {},
   "outputs": [
    {
     "data": {
      "text/plain": [
       "<alma_batch.AlmaBatch at 0x10ec0a1f0>"
      ]
     },
     "execution_count": 6,
     "metadata": {},
     "output_type": "execute_result"
    }
   ],
   "source": [
    "set_batch.data = [{'set_id': set_id}]\n",
    "set_batch.validate_data()"
   ]
  },
  {
   "cell_type": "code",
   "execution_count": 7,
   "metadata": {},
   "outputs": [
    {
     "data": {
      "text/plain": [
       "<alma_batch.AlmaBatch at 0x10ec0a1f0>"
      ]
     },
     "execution_count": 7,
     "metadata": {},
     "output_type": "execute_result"
    }
   ],
   "source": [
    "# Fetch contents of the set\n",
    "await set_batch.amake_requests()"
   ]
  },
  {
   "cell_type": "code",
   "execution_count": 8,
   "metadata": {},
   "outputs": [],
   "source": [
    "# Flatten list\n",
    "members = [member for result in set_batch.results for member in result['result']['member']]"
   ]
  },
  {
   "cell_type": "code",
   "execution_count": 9,
   "metadata": {},
   "outputs": [
    {
     "data": {
      "text/plain": [
       "86"
      ]
     },
     "execution_count": 9,
     "metadata": {},
     "output_type": "execute_result"
    }
   ],
   "source": [
    "len(members)"
   ]
  },
  {
   "cell_type": "markdown",
   "metadata": {},
   "source": [
    "Scan the items using the Bibs API"
   ]
  },
  {
   "cell_type": "code",
   "execution_count": 10,
   "metadata": {},
   "outputs": [],
   "source": [
    "items_config_file = PATH_TO_CONFIG / 'scan_items_config.yml'"
   ]
  },
  {
   "cell_type": "code",
   "execution_count": 11,
   "metadata": {},
   "outputs": [],
   "source": [
    "# Extract links and add additional params \n",
    "scan_in_params = {'op': 'scan',\n",
    "                 'library': 'gelman',\n",
    "                 'circ_desk': 'SCRC_DESK'}\n",
    "items_to_scan = [dict({'link': item['link']}, **scan_in_params)\n",
    "                for item in members]"
   ]
  },
  {
   "cell_type": "code",
   "execution_count": 12,
   "metadata": {},
   "outputs": [
    {
     "data": {
      "text/plain": [
       "<alma_batch.AlmaBatch at 0x10db7d2b0>"
      ]
     },
     "execution_count": 12,
     "metadata": {},
     "output_type": "execute_result"
    }
   ],
   "source": [
    "scan_batch = AlmaBatch(items_config_file)\n",
    "scan_batch.data = items_to_scan\n",
    "scan_batch.validate_data()"
   ]
  },
  {
   "cell_type": "code",
   "execution_count": 13,
   "metadata": {},
   "outputs": [
    {
     "data": {
      "text/plain": [
       "<alma_batch.AlmaBatch at 0x10db7d2b0>"
      ]
     },
     "execution_count": 13,
     "metadata": {},
     "output_type": "execute_result"
    }
   ],
   "source": [
    "await scan_batch.amake_requests()"
   ]
  },
  {
   "cell_type": "code",
   "execution_count": 14,
   "metadata": {},
   "outputs": [
    {
     "data": {
      "text/plain": [
       "[]"
      ]
     },
     "execution_count": 14,
     "metadata": {},
     "output_type": "execute_result"
    }
   ],
   "source": [
    "scan_batch.errors"
   ]
  },
  {
   "cell_type": "markdown",
   "metadata": {},
   "source": [
    "Load a CSV."
   ]
  },
  {
   "cell_type": "code",
   "execution_count": 26,
   "metadata": {},
   "outputs": [],
   "source": [
    "migration_errors = pd.read_csv('items_technical_migration.csv')"
   ]
  },
  {
   "cell_type": "markdown",
   "metadata": {},
   "source": [
    "Make sure the relevant column names match the parameters of the API endpoint."
   ]
  },
  {
   "cell_type": "code",
   "execution_count": 4,
   "metadata": {},
   "outputs": [],
   "source": [
    "migration_errors.columns = [column.lower().replace(' ', '_') for column in migration_errors.columns]"
   ]
  },
  {
   "cell_type": "code",
   "execution_count": 10,
   "metadata": {},
   "outputs": [],
   "source": [
    "migration_errors = migration_errors.rename(columns={'item_id': 'item_pid'})"
   ]
  },
  {
   "cell_type": "markdown",
   "metadata": {},
   "source": [
    "This is the path to your config file."
   ]
  },
  {
   "cell_type": "code",
   "execution_count": 12,
   "metadata": {},
   "outputs": [],
   "source": [
    "CONFIG_PATH = './test_config.yml'"
   ]
  },
  {
   "cell_type": "markdown",
   "metadata": {},
   "source": [
    "Initialize the AlmaBatch object."
   ]
  },
  {
   "cell_type": "code",
   "execution_count": 13,
   "metadata": {},
   "outputs": [],
   "source": [
    "ab = AlmaBatch(CONFIG_PATH)"
   ]
  },
  {
   "cell_type": "markdown",
   "metadata": {},
   "source": [
    "Pass in the data."
   ]
  },
  {
   "cell_type": "code",
   "execution_count": 21,
   "metadata": {},
   "outputs": [],
   "source": [
    "ab.data = migration_errors.copy()"
   ]
  },
  {
   "cell_type": "markdown",
   "metadata": {},
   "source": [
    "Optional: checks that all parameters in the API URL are present in the columns of the `data` attribute."
   ]
  },
  {
   "cell_type": "code",
   "execution_count": 22,
   "metadata": {},
   "outputs": [
    {
     "data": {
      "text/plain": [
       "<alma_batch.AlmaBatch at 0x1217ed490>"
      ]
     },
     "execution_count": 22,
     "metadata": {},
     "output_type": "execute_result"
    }
   ],
   "source": [
    "ab.validate_data()"
   ]
  },
  {
   "cell_type": "markdown",
   "metadata": {},
   "source": [
    "From a notebook, use the async function directly: `AlmaBatch.amake_requests`. From a standalone script, simply do\n",
    "`ab.make_requests(batch_size=500, serialize_return=True)`, which calls a wrapper function that kicks off the event loop. (In a Jupyter environment, we use the already running event loop.)\n",
    "\n",
    "Set `serialize_return` to `False` if you don't want to keep the API output. \n",
    "\n",
    "Set `batch_size` to `0` if you want to run all rows at once."
   ]
  },
  {
   "cell_type": "code",
   "execution_count": 23,
   "metadata": {},
   "outputs": [
    {
     "name": "stdout",
     "output_type": "stream",
     "text": [
      "Running batch 1...\n",
      "Saving API output for batch 0\n",
      "All requests completed.\n"
     ]
    },
    {
     "data": {
      "text/plain": [
       "<alma_batch.AlmaBatch at 0x1217ed490>"
      ]
     },
     "execution_count": 23,
     "metadata": {},
     "output_type": "execute_result"
    }
   ],
   "source": [
    "await ab.amake_requests(batch_size=500, serialize_return=True)"
   ]
  },
  {
   "cell_type": "markdown",
   "metadata": {},
   "source": [
    "Errors can be inspected via the `AlmaBatch.errors` attribute."
   ]
  },
  {
   "cell_type": "code",
   "execution_count": 25,
   "metadata": {},
   "outputs": [
    {
     "data": {
      "text/plain": [
       "{'item_pid': 23406647760004107,\n",
       " 'barcode': nan,\n",
       " 'base_status': 'Item not in place',\n",
       " 'process_type': 'Technical - Migration',\n",
       " 'internal_note_1': nan,\n",
       " 'item_call_number': nan,\n",
       " 'holding_id': 22406647770004107,\n",
       " 'suppressed_holdings': 0,\n",
       " 'permanent_call_number': 'ND813.Z96 G79',\n",
       " 'location_name': 'Stacks',\n",
       " 'temporary_location_name': 'None',\n",
       " 'title': '[Homenaje a Zurbarán].',\n",
       " 'mms_id': 9927473753604107,\n",
       " 'suppressed_bibs': 'No',\n",
       " 'material_type': 'Book',\n",
       " 'originating_system_id': '2747375-wrlcdb',\n",
       " 'idx': 34,\n",
       " 'error': alma_batch_utils.APIException('{\"errorsExist\":true,\"errorList\":{\"error\":[{\"errorCode\":\"401683\",\"errorMessage\":\"No Item found for mmsId 9927473753604107, holdings id 22406647770004107 and item id 23406647760004107.\",\"trackingId\":\"E01-0610153857-7NPIS-AWAE2090425221\"}]},\"result\":null}')}"
      ]
     },
     "execution_count": 25,
     "metadata": {},
     "output_type": "execute_result"
    }
   ],
   "source": [
    "ab.errors[0]"
   ]
  }
 ],
 "metadata": {
  "kernelspec": {
   "display_name": "Python 3 (ipykernel)",
   "language": "python",
   "name": "python3"
  },
  "language_info": {
   "codemirror_mode": {
    "name": "ipython",
    "version": 3
   },
   "file_extension": ".py",
   "mimetype": "text/x-python",
   "name": "python",
   "nbconvert_exporter": "python",
   "pygments_lexer": "ipython3",
   "version": "3.11.7"
  }
 },
 "nbformat": 4,
 "nbformat_minor": 4
}
