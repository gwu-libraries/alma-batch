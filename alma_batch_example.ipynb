{
 "cells": [
  {
   "cell_type": "code",
   "execution_count": 1,
   "metadata": {},
   "outputs": [],
   "source": [
    "import sys\n",
    "sys.path.append('/Users/dsmith/Documents/code/alma_batch')"
   ]
  },
  {
   "cell_type": "code",
   "execution_count": 2,
   "metadata": {},
   "outputs": [],
   "source": [
    "from alma_batch import AlmaBatch\n",
    "import pandas as pd"
   ]
  },
  {
   "cell_type": "markdown",
   "metadata": {},
   "source": [
    "Load a CSV."
   ]
  },
  {
   "cell_type": "code",
   "execution_count": 26,
   "metadata": {},
   "outputs": [],
   "source": [
    "migration_errors = pd.read_csv('items_technical_migration.csv')"
   ]
  },
  {
   "cell_type": "markdown",
   "metadata": {},
   "source": [
    "Make sure the relevant column names match the parameters of the API endpoint."
   ]
  },
  {
   "cell_type": "code",
   "execution_count": 4,
   "metadata": {},
   "outputs": [],
   "source": [
    "migration_errors.columns = [column.lower().replace(' ', '_') for column in migration_errors.columns]"
   ]
  },
  {
   "cell_type": "code",
   "execution_count": 10,
   "metadata": {},
   "outputs": [],
   "source": [
    "migration_errors = migration_errors.rename(columns={'item_id': 'item_pid'})"
   ]
  },
  {
   "cell_type": "markdown",
   "metadata": {},
   "source": [
    "This is the path to your config file."
   ]
  },
  {
   "cell_type": "code",
   "execution_count": 12,
   "metadata": {},
   "outputs": [],
   "source": [
    "CONFIG_PATH = './test_config.yml'"
   ]
  },
  {
   "cell_type": "markdown",
   "metadata": {},
   "source": [
    "Initialize the AlmaBatch object."
   ]
  },
  {
   "cell_type": "code",
   "execution_count": 13,
   "metadata": {},
   "outputs": [],
   "source": [
    "ab = AlmaBatch(CONFIG_PATH)"
   ]
  },
  {
   "cell_type": "markdown",
   "metadata": {},
   "source": [
    "Pass in the data."
   ]
  },
  {
   "cell_type": "code",
   "execution_count": 21,
   "metadata": {},
   "outputs": [],
   "source": [
    "ab.data = migration_errors.copy()"
   ]
  },
  {
   "cell_type": "markdown",
   "metadata": {},
   "source": [
    "Optional: checks that all parameters in the API URL are present in the columns of the `data` attribute."
   ]
  },
  {
   "cell_type": "code",
   "execution_count": 22,
   "metadata": {},
   "outputs": [
    {
     "data": {
      "text/plain": [
       "<alma_batch.AlmaBatch at 0x1217ed490>"
      ]
     },
     "execution_count": 22,
     "metadata": {},
     "output_type": "execute_result"
    }
   ],
   "source": [
    "ab.validate_data()"
   ]
  },
  {
   "cell_type": "markdown",
   "metadata": {},
   "source": [
    "From a notebook, use the async version of `AlmaBatch.make_requests`. From a standalone script, simply do\n",
    "`ab.make_requests(batch_size=500, serialize_return=True)`.\n",
    "\n",
    "Set `serialize_return` to `False` if you don't want to keep the API output. \n",
    "\n",
    "Set `batch_size` to `0` if you want to run all rows at once."
   ]
  },
  {
   "cell_type": "code",
   "execution_count": 23,
   "metadata": {},
   "outputs": [
    {
     "name": "stdout",
     "output_type": "stream",
     "text": [
      "Running batch 1...\n",
      "Saving API output for batch 0\n",
      "All requests completed.\n"
     ]
    },
    {
     "data": {
      "text/plain": [
       "<alma_batch.AlmaBatch at 0x1217ed490>"
      ]
     },
     "execution_count": 23,
     "metadata": {},
     "output_type": "execute_result"
    }
   ],
   "source": [
    "await ab.make_requests_async(batch_size=500, serialize_return=True)"
   ]
  },
  {
   "cell_type": "markdown",
   "metadata": {},
   "source": [
    "Errors can be inspected via the `AlmaBatch.errors` attribute."
   ]
  },
  {
   "cell_type": "code",
   "execution_count": 25,
   "metadata": {},
   "outputs": [
    {
     "data": {
      "text/plain": [
       "{'item_pid': 23406647760004107,\n",
       " 'barcode': nan,\n",
       " 'base_status': 'Item not in place',\n",
       " 'process_type': 'Technical - Migration',\n",
       " 'internal_note_1': nan,\n",
       " 'item_call_number': nan,\n",
       " 'holding_id': 22406647770004107,\n",
       " 'suppressed_holdings': 0,\n",
       " 'permanent_call_number': 'ND813.Z96 G79',\n",
       " 'location_name': 'Stacks',\n",
       " 'temporary_location_name': 'None',\n",
       " 'title': '[Homenaje a Zurbarán].',\n",
       " 'mms_id': 9927473753604107,\n",
       " 'suppressed_bibs': 'No',\n",
       " 'material_type': 'Book',\n",
       " 'originating_system_id': '2747375-wrlcdb',\n",
       " 'idx': 34,\n",
       " 'error': alma_batch_utils.APIException('{\"errorsExist\":true,\"errorList\":{\"error\":[{\"errorCode\":\"401683\",\"errorMessage\":\"No Item found for mmsId 9927473753604107, holdings id 22406647770004107 and item id 23406647760004107.\",\"trackingId\":\"E01-0610153857-7NPIS-AWAE2090425221\"}]},\"result\":null}')}"
      ]
     },
     "execution_count": 25,
     "metadata": {},
     "output_type": "execute_result"
    }
   ],
   "source": [
    "ab.errors[0]"
   ]
  }
 ],
 "metadata": {
  "kernelspec": {
   "display_name": "Python 3",
   "language": "python",
   "name": "python3"
  },
  "language_info": {
   "codemirror_mode": {
    "name": "ipython",
    "version": 3
   },
   "file_extension": ".py",
   "mimetype": "text/x-python",
   "name": "python",
   "nbconvert_exporter": "python",
   "pygments_lexer": "ipython3",
   "version": "3.8.5"
  }
 },
 "nbformat": 4,
 "nbformat_minor": 4
}
